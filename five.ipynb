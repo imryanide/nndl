{
 "cells": [
  {
   "cell_type": "code",
   "execution_count": null,
   "metadata": {},
   "outputs": [],
   "source": [
    "import tensorflow as tf\n",
    "from tensorflow.keras import layers, models\n",
    "\n",
    "# Define helper functions\n",
    "\n",
    "def create_convolutional_layer(filters, kernel_size, activation='relu', input_shape=None):\n",
    "    if input_shape:\n",
    "        return layers.Conv2D(filters, kernel_size, activation=activation, input_shape=input_shape)\n",
    "    else:\n",
    "        return layers.Conv2D(filters, kernel_size, activation=activation)\n",
    "\n",
    "def create_maxpooling_layer(pool_size=(2, 2)):\n",
    "    return layers.MaxPooling2D(pool_size)\n",
    "\n",
    "def create_dense_layer(units, activation='relu'):\n",
    "    return layers.Dense(units, activation=activation)"
   ]
  },
  {
   "cell_type": "code",
   "execution_count": null,
   "metadata": {},
   "outputs": [],
   "source": [
    "def build_convnet(input_shape, num_classes):\n",
    "    model = models.Sequential()\n",
    "\n",
    "    # Convolutional layers\n",
    "    model.add(create_convolutional_layer(32, (3, 3), input_shape=input_shape))\n",
    "    model.add(create_maxpooling_layer())\n",
    "    model.add(create_convolutional_layer(64, (3, 3)))\n",
    "    model.add(create_maxpooling_layer())\n",
    "\n",
    "    # Flatten layer\n",
    "    model.add(layers.Flatten())\n",
    "\n",
    "    # Dense layers\n",
    "    model.add(create_dense_layer(128))\n",
    "    model.add(create_dense_layer(num_classes, activation='softmax'))\n",
    "\n",
    "    # Compile the model\n",
    "    model.compile(optimizer='adam',\n",
    "                  loss='sparse_categorical_crossentropy',\n",
    "                  metrics=['accuracy'])\n",
    "\n",
    "    return model"
   ]
  },
  {
   "cell_type": "code",
   "execution_count": null,
   "metadata": {},
   "outputs": [],
   "source": [
    "(train_images, train_labels), (test_images, test_labels) = tf.keras.datasets.fashion_mnist.load_data()\n",
    "\n",
    "# Preprocess the data\n",
    "train_images = train_images.reshape((60000, 28, 28, 1)).astype('float32') / 255\n",
    "test_images = test_images.reshape((10000, 28, 28, 1)).astype('float32') / 255\n",
    "\n",
    "# Build and train the model\n",
    "input_shape = (28, 28, 1)\n",
    "num_classes = 10\n",
    "model = build_convnet(input_shape, num_classes)\n",
    "\n",
    "model.fit(train_images, train_labels, epochs=10, validation_data=(test_images, test_labels))\n"
   ]
  }
 ],
 "metadata": {
  "language_info": {
   "name": "python"
  }
 },
 "nbformat": 4,
 "nbformat_minor": 2
}
